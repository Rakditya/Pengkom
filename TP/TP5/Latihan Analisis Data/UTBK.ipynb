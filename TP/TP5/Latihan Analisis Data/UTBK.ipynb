{
 "cells": [
  {
   "cell_type": "code",
   "execution_count": 27,
   "metadata": {},
   "outputs": [],
   "source": [
    "import pandas as pd\n",
    "df = pd.read_csv(\"Survei Skor UTBK-SNBT ITB '23 (Responses) - Form Responses 1.csv\")"
   ]
  },
  {
   "cell_type": "code",
   "execution_count": 28,
   "metadata": {},
   "outputs": [
    {
     "data": {
      "text/plain": [
       "Kalian keterima di fakultas mana. nih?\n",
       "STEI-K       47\n",
       "FTI-G        44\n",
       "FTTM-G       27\n",
       "SITH-R       15\n",
       "STEI-R       14\n",
       "SF           14\n",
       "FSRD-G       12\n",
       "FTI-J        12\n",
       "SITH-S       10\n",
       "FMIPA-IPA     8\n",
       "FTTM-C        7\n",
       "FMIPA-M       6\n",
       "FTMD          5\n",
       "FITB-G        5\n",
       "SAPPK-G       4\n",
       "FTSL-J        4\n",
       "FTSL-G        4\n",
       "SBM           3\n",
       "FTI-C         2\n",
       "SAPPK-C       1\n",
       "FSRD-J        1\n",
       "Fakultas      1\n",
       "Name: count, dtype: int64"
      ]
     },
     "execution_count": 28,
     "metadata": {},
     "output_type": "execute_result"
    }
   ],
   "source": [
    "\n",
    "df['Kalian keterima di fakultas mana. nih?'].value_counts()  "
   ]
  }
 ],
 "metadata": {
  "kernelspec": {
   "display_name": "Python 3",
   "language": "python",
   "name": "python3"
  },
  "language_info": {
   "codemirror_mode": {
    "name": "ipython",
    "version": 3
   },
   "file_extension": ".py",
   "mimetype": "text/x-python",
   "name": "python",
   "nbconvert_exporter": "python",
   "pygments_lexer": "ipython3",
   "version": "3.12.1"
  }
 },
 "nbformat": 4,
 "nbformat_minor": 2
}
