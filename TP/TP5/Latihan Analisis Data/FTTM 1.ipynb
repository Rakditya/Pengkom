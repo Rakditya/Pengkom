{
 "cells": [
  {
   "cell_type": "code",
   "execution_count": 1,
   "metadata": {},
   "outputs": [],
   "source": [
    "import pandas as pd\n",
    "df = pd.read_csv('P05-01.csv')"
   ]
  },
  {
   "cell_type": "code",
   "execution_count": 2,
   "metadata": {},
   "outputs": [
    {
     "data": {
      "text/plain": [
       "Card_Category\n",
       "Blue        9436\n",
       "Silver       555\n",
       "Gold         116\n",
       "Platinum      20\n",
       "Name: count, dtype: int64"
      ]
     },
     "execution_count": 2,
     "metadata": {},
     "output_type": "execute_result"
    }
   ],
   "source": [
    "# Subsoal 1\n",
    "\n",
    "df['Card_Category'].value_counts()"
   ]
  },
  {
   "cell_type": "code",
   "execution_count": 3,
   "metadata": {},
   "outputs": [
    {
     "data": {
      "text/plain": [
       "8631.953698034955"
      ]
     },
     "execution_count": 3,
     "metadata": {},
     "output_type": "execute_result"
    }
   ],
   "source": [
    "# Subsoal 2\n",
    "\n",
    "df['Credit_Limit'].mean()"
   ]
  },
  {
   "cell_type": "code",
   "execution_count": 4,
   "metadata": {},
   "outputs": [
    {
     "data": {
      "text/html": [
       "<div>\n",
       "<style scoped>\n",
       "    .dataframe tbody tr th:only-of-type {\n",
       "        vertical-align: middle;\n",
       "    }\n",
       "\n",
       "    .dataframe tbody tr th {\n",
       "        vertical-align: top;\n",
       "    }\n",
       "\n",
       "    .dataframe thead th {\n",
       "        text-align: right;\n",
       "    }\n",
       "</style>\n",
       "<table border=\"1\" class=\"dataframe\">\n",
       "  <thead>\n",
       "    <tr style=\"text-align: right;\">\n",
       "      <th></th>\n",
       "      <th>CLIENTNUM</th>\n",
       "      <th>Attrition_Flag</th>\n",
       "      <th>Customer_Age</th>\n",
       "      <th>Gender</th>\n",
       "      <th>Dependent_count</th>\n",
       "      <th>Education_Level</th>\n",
       "      <th>Marital_Status</th>\n",
       "      <th>Income_Category</th>\n",
       "      <th>Card_Category</th>\n",
       "      <th>Months_on_book</th>\n",
       "      <th>Months_Inactive_12_mon</th>\n",
       "      <th>Credit_Limit</th>\n",
       "      <th>Total_Revolving_Bal</th>\n",
       "      <th>Total_Trans_Amt</th>\n",
       "      <th>Total_Trans_Ct</th>\n",
       "      <th>Avg_Utilization_Ratio</th>\n",
       "    </tr>\n",
       "  </thead>\n",
       "  <tbody>\n",
       "    <tr>\n",
       "      <th>9964</th>\n",
       "      <td>718140783</td>\n",
       "      <td>Existing Customer</td>\n",
       "      <td>47</td>\n",
       "      <td>M</td>\n",
       "      <td>4</td>\n",
       "      <td>Unknown</td>\n",
       "      <td>Married</td>\n",
       "      <td>$60K - $80K</td>\n",
       "      <td>Blue</td>\n",
       "      <td>36</td>\n",
       "      <td>5</td>\n",
       "      <td>10585.0</td>\n",
       "      <td>1749</td>\n",
       "      <td>18484</td>\n",
       "      <td>108</td>\n",
       "      <td>0.165</td>\n",
       "    </tr>\n",
       "    <tr>\n",
       "      <th>10073</th>\n",
       "      <td>717642633</td>\n",
       "      <td>Existing Customer</td>\n",
       "      <td>51</td>\n",
       "      <td>M</td>\n",
       "      <td>2</td>\n",
       "      <td>Graduate</td>\n",
       "      <td>Married</td>\n",
       "      <td>$60K - $80K</td>\n",
       "      <td>Blue</td>\n",
       "      <td>40</td>\n",
       "      <td>3</td>\n",
       "      <td>3750.0</td>\n",
       "      <td>1801</td>\n",
       "      <td>17995</td>\n",
       "      <td>116</td>\n",
       "      <td>0.480</td>\n",
       "    </tr>\n",
       "    <tr>\n",
       "      <th>10097</th>\n",
       "      <td>801036033</td>\n",
       "      <td>Existing Customer</td>\n",
       "      <td>31</td>\n",
       "      <td>M</td>\n",
       "      <td>0</td>\n",
       "      <td>High School</td>\n",
       "      <td>Single</td>\n",
       "      <td>$40K - $60K</td>\n",
       "      <td>Blue</td>\n",
       "      <td>25</td>\n",
       "      <td>2</td>\n",
       "      <td>4493.0</td>\n",
       "      <td>1388</td>\n",
       "      <td>17744</td>\n",
       "      <td>104</td>\n",
       "      <td>0.309</td>\n",
       "    </tr>\n",
       "    <tr>\n",
       "      <th>9601</th>\n",
       "      <td>716004258</td>\n",
       "      <td>Existing Customer</td>\n",
       "      <td>45</td>\n",
       "      <td>M</td>\n",
       "      <td>4</td>\n",
       "      <td>High School</td>\n",
       "      <td>Single</td>\n",
       "      <td>$60K - $80K</td>\n",
       "      <td>Blue</td>\n",
       "      <td>35</td>\n",
       "      <td>1</td>\n",
       "      <td>8449.0</td>\n",
       "      <td>2092</td>\n",
       "      <td>17634</td>\n",
       "      <td>120</td>\n",
       "      <td>0.248</td>\n",
       "    </tr>\n",
       "    <tr>\n",
       "      <th>9341</th>\n",
       "      <td>713758758</td>\n",
       "      <td>Existing Customer</td>\n",
       "      <td>48</td>\n",
       "      <td>M</td>\n",
       "      <td>2</td>\n",
       "      <td>High School</td>\n",
       "      <td>Married</td>\n",
       "      <td>Less than $40K</td>\n",
       "      <td>Silver</td>\n",
       "      <td>36</td>\n",
       "      <td>2</td>\n",
       "      <td>14581.0</td>\n",
       "      <td>2517</td>\n",
       "      <td>17628</td>\n",
       "      <td>109</td>\n",
       "      <td>0.173</td>\n",
       "    </tr>\n",
       "  </tbody>\n",
       "</table>\n",
       "</div>"
      ],
      "text/plain": [
       "       CLIENTNUM     Attrition_Flag  Customer_Age Gender  Dependent_count  \\\n",
       "9964   718140783  Existing Customer            47      M                4   \n",
       "10073  717642633  Existing Customer            51      M                2   \n",
       "10097  801036033  Existing Customer            31      M                0   \n",
       "9601   716004258  Existing Customer            45      M                4   \n",
       "9341   713758758  Existing Customer            48      M                2   \n",
       "\n",
       "      Education_Level Marital_Status Income_Category Card_Category  \\\n",
       "9964          Unknown        Married     $60K - $80K          Blue   \n",
       "10073        Graduate        Married     $60K - $80K          Blue   \n",
       "10097     High School         Single     $40K - $60K          Blue   \n",
       "9601      High School         Single     $60K - $80K          Blue   \n",
       "9341      High School        Married  Less than $40K        Silver   \n",
       "\n",
       "       Months_on_book  Months_Inactive_12_mon  Credit_Limit  \\\n",
       "9964               36                       5       10585.0   \n",
       "10073              40                       3        3750.0   \n",
       "10097              25                       2        4493.0   \n",
       "9601               35                       1        8449.0   \n",
       "9341               36                       2       14581.0   \n",
       "\n",
       "       Total_Revolving_Bal  Total_Trans_Amt  Total_Trans_Ct  \\\n",
       "9964                  1749            18484             108   \n",
       "10073                 1801            17995             116   \n",
       "10097                 1388            17744             104   \n",
       "9601                  2092            17634             120   \n",
       "9341                  2517            17628             109   \n",
       "\n",
       "       Avg_Utilization_Ratio  \n",
       "9964                   0.165  \n",
       "10073                  0.480  \n",
       "10097                  0.309  \n",
       "9601                   0.248  \n",
       "9341                   0.173  "
      ]
     },
     "execution_count": 4,
     "metadata": {},
     "output_type": "execute_result"
    }
   ],
   "source": [
    "# Subsoal 3\n",
    "df.sort_values(['Total_Trans_Amt'], ascending=False)[:5]"
   ]
  },
  {
   "cell_type": "code",
   "execution_count": 5,
   "metadata": {},
   "outputs": [
    {
     "data": {
      "text/plain": [
       "116"
      ]
     },
     "execution_count": 5,
     "metadata": {},
     "output_type": "execute_result"
    }
   ],
   "source": [
    "# Subsoal 4\n",
    "\n",
    "len(df.loc[df['Card_Category'] == 'Gold'])"
   ]
  },
  {
   "cell_type": "code",
   "execution_count": 6,
   "metadata": {},
   "outputs": [
    {
     "data": {
      "text/plain": [
       "-0.04644649085468729"
      ]
     },
     "execution_count": 6,
     "metadata": {},
     "output_type": "execute_result"
    }
   ],
   "source": [
    "# Subsoal 5\n",
    "\n",
    "df['Customer_Age'].corr(df['Total_Trans_Amt'])"
   ]
  },
  {
   "cell_type": "markdown",
   "metadata": {},
   "source": [
    "Karena nilai dari korelasi dekat dengan 0, maka dapat disimpulkan bahwa tidak ada korelasi ntara usia pengguna dalam bulan dengan total transaksi selama 12 bulan terakhir."
   ]
  }
 ],
 "metadata": {
  "kernelspec": {
   "display_name": "Python 3",
   "language": "python",
   "name": "python3"
  },
  "language_info": {
   "codemirror_mode": {
    "name": "ipython",
    "version": 3
   },
   "file_extension": ".py",
   "mimetype": "text/x-python",
   "name": "python",
   "nbconvert_exporter": "python",
   "pygments_lexer": "ipython3",
   "version": "3.11.4"
  }
 },
 "nbformat": 4,
 "nbformat_minor": 2
}
